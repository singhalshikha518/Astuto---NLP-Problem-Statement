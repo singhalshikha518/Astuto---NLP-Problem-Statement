{
 "cells": [
  {
   "cell_type": "code",
   "execution_count": 1,
   "id": "e8b76a72",
   "metadata": {},
   "outputs": [
    {
     "data": {
      "text/plain": [
       "<spacytextblob.spacytextblob.SpacyTextBlob at 0x7f10a4915f60>"
      ]
     },
     "execution_count": 1,
     "metadata": {},
     "output_type": "execute_result"
    }
   ],
   "source": [
    "#import General Libraries\n",
    "import re, string\n",
    "import pandas as pd\n",
    "import spacy\n",
    "from spacytextblob.spacytextblob import SpacyTextBlob\n",
    "\n",
    "nlp = spacy.load('en_core_web_sm')\n",
    "nlp.add_pipe('spacytextblob')"
   ]
  },
  {
   "cell_type": "code",
   "execution_count": 2,
   "id": "4257fd57",
   "metadata": {},
   "outputs": [],
   "source": [
    "#Reading Dataset\n",
    "df=pd.read_csv(\"Womens Clothing E-Commerce Reviews.csv\")"
   ]
  },
  {
   "cell_type": "code",
   "execution_count": 3,
   "id": "12199672",
   "metadata": {},
   "outputs": [
    {
     "data": {
      "text/html": [
       "<div>\n",
       "<style scoped>\n",
       "    .dataframe tbody tr th:only-of-type {\n",
       "        vertical-align: middle;\n",
       "    }\n",
       "\n",
       "    .dataframe tbody tr th {\n",
       "        vertical-align: top;\n",
       "    }\n",
       "\n",
       "    .dataframe thead th {\n",
       "        text-align: right;\n",
       "    }\n",
       "</style>\n",
       "<table border=\"1\" class=\"dataframe\">\n",
       "  <thead>\n",
       "    <tr style=\"text-align: right;\">\n",
       "      <th></th>\n",
       "      <th>Unnamed: 0</th>\n",
       "      <th>Clothing ID</th>\n",
       "      <th>Age</th>\n",
       "      <th>Rating</th>\n",
       "      <th>Recommended IND</th>\n",
       "      <th>Positive Feedback Count</th>\n",
       "    </tr>\n",
       "  </thead>\n",
       "  <tbody>\n",
       "    <tr>\n",
       "      <th>count</th>\n",
       "      <td>23486.000000</td>\n",
       "      <td>23486.000000</td>\n",
       "      <td>23486.000000</td>\n",
       "      <td>23486.000000</td>\n",
       "      <td>23486.000000</td>\n",
       "      <td>23486.000000</td>\n",
       "    </tr>\n",
       "    <tr>\n",
       "      <th>mean</th>\n",
       "      <td>11742.500000</td>\n",
       "      <td>918.118709</td>\n",
       "      <td>43.198544</td>\n",
       "      <td>4.196032</td>\n",
       "      <td>0.822362</td>\n",
       "      <td>2.535936</td>\n",
       "    </tr>\n",
       "    <tr>\n",
       "      <th>std</th>\n",
       "      <td>6779.968547</td>\n",
       "      <td>203.298980</td>\n",
       "      <td>12.279544</td>\n",
       "      <td>1.110031</td>\n",
       "      <td>0.382216</td>\n",
       "      <td>5.702202</td>\n",
       "    </tr>\n",
       "    <tr>\n",
       "      <th>min</th>\n",
       "      <td>0.000000</td>\n",
       "      <td>0.000000</td>\n",
       "      <td>18.000000</td>\n",
       "      <td>1.000000</td>\n",
       "      <td>0.000000</td>\n",
       "      <td>0.000000</td>\n",
       "    </tr>\n",
       "    <tr>\n",
       "      <th>25%</th>\n",
       "      <td>5871.250000</td>\n",
       "      <td>861.000000</td>\n",
       "      <td>34.000000</td>\n",
       "      <td>4.000000</td>\n",
       "      <td>1.000000</td>\n",
       "      <td>0.000000</td>\n",
       "    </tr>\n",
       "    <tr>\n",
       "      <th>50%</th>\n",
       "      <td>11742.500000</td>\n",
       "      <td>936.000000</td>\n",
       "      <td>41.000000</td>\n",
       "      <td>5.000000</td>\n",
       "      <td>1.000000</td>\n",
       "      <td>1.000000</td>\n",
       "    </tr>\n",
       "    <tr>\n",
       "      <th>75%</th>\n",
       "      <td>17613.750000</td>\n",
       "      <td>1078.000000</td>\n",
       "      <td>52.000000</td>\n",
       "      <td>5.000000</td>\n",
       "      <td>1.000000</td>\n",
       "      <td>3.000000</td>\n",
       "    </tr>\n",
       "    <tr>\n",
       "      <th>max</th>\n",
       "      <td>23485.000000</td>\n",
       "      <td>1205.000000</td>\n",
       "      <td>99.000000</td>\n",
       "      <td>5.000000</td>\n",
       "      <td>1.000000</td>\n",
       "      <td>122.000000</td>\n",
       "    </tr>\n",
       "  </tbody>\n",
       "</table>\n",
       "</div>"
      ],
      "text/plain": [
       "         Unnamed: 0   Clothing ID           Age        Rating  \\\n",
       "count  23486.000000  23486.000000  23486.000000  23486.000000   \n",
       "mean   11742.500000    918.118709     43.198544      4.196032   \n",
       "std     6779.968547    203.298980     12.279544      1.110031   \n",
       "min        0.000000      0.000000     18.000000      1.000000   \n",
       "25%     5871.250000    861.000000     34.000000      4.000000   \n",
       "50%    11742.500000    936.000000     41.000000      5.000000   \n",
       "75%    17613.750000   1078.000000     52.000000      5.000000   \n",
       "max    23485.000000   1205.000000     99.000000      5.000000   \n",
       "\n",
       "       Recommended IND  Positive Feedback Count  \n",
       "count     23486.000000             23486.000000  \n",
       "mean          0.822362                 2.535936  \n",
       "std           0.382216                 5.702202  \n",
       "min           0.000000                 0.000000  \n",
       "25%           1.000000                 0.000000  \n",
       "50%           1.000000                 1.000000  \n",
       "75%           1.000000                 3.000000  \n",
       "max           1.000000               122.000000  "
      ]
     },
     "execution_count": 3,
     "metadata": {},
     "output_type": "execute_result"
    }
   ],
   "source": [
    "#Data Preparation\n",
    "df.describe()"
   ]
  },
  {
   "cell_type": "code",
   "execution_count": 4,
   "id": "a1192efc",
   "metadata": {},
   "outputs": [],
   "source": [
    "df.drop('Unnamed: 0', axis=1, inplace=True)"
   ]
  },
  {
   "cell_type": "code",
   "execution_count": 5,
   "id": "d75cc190",
   "metadata": {},
   "outputs": [],
   "source": [
    "df.dropna(subset=['Review Text'], inplace=True) #Removing rows where Review Text is null"
   ]
  },
  {
   "cell_type": "code",
   "execution_count": 6,
   "id": "6e9339ec",
   "metadata": {},
   "outputs": [],
   "source": [
    "df.Title = df.Title.fillna('') #Fill NA with blank in Title Column"
   ]
  },
  {
   "cell_type": "code",
   "execution_count": 7,
   "id": "8d68d694",
   "metadata": {},
   "outputs": [],
   "source": [
    "df['Full text']=df['Title']+' '+df['Review Text'] #Concatenating Title and Review Text for analysis"
   ]
  },
  {
   "cell_type": "code",
   "execution_count": 8,
   "id": "0c754fdb",
   "metadata": {},
   "outputs": [],
   "source": [
    "def detectSentiment(text) -> str:\n",
    "    \"this method takes text as input and return sentiment of the text\"\n",
    "    doc=nlp(text)\n",
    "    if doc._.polarity>0:\n",
    "        return 'Positive'\n",
    "    elif doc._.polarity<0:\n",
    "        return 'Negative'\n",
    "    else:\n",
    "        return 'Neutral'"
   ]
  },
  {
   "cell_type": "code",
   "execution_count": 9,
   "id": "1bfae1c9",
   "metadata": {},
   "outputs": [],
   "source": [
    "df['Sentiment']=df['Full text'].apply(lambda x : detectSentiment(x))"
   ]
  },
  {
   "cell_type": "code",
   "execution_count": 10,
   "id": "a7004541",
   "metadata": {},
   "outputs": [
    {
     "name": "stdout",
     "output_type": "stream",
     "text": [
      "   Clothing ID  Age                                 Title  \\\n",
      "0          767   33                                         \n",
      "1         1080   34                                         \n",
      "2         1077   60               Some major design flaws   \n",
      "3         1049   50                      My favorite buy!   \n",
      "4          847   47                      Flattering shirt   \n",
      "5         1080   49               Not for the very petite   \n",
      "6          858   39                  Cagrcoal shimmer fun   \n",
      "7          858   39  Shimmer, surprisingly goes with lots   \n",
      "8         1077   24                            Flattering   \n",
      "9         1077   34                     Such a fun dress!   \n",
      "\n",
      "                                         Review Text  Rating  Recommended IND  \\\n",
      "0  Absolutely wonderful - silky and sexy and comf...       4                1   \n",
      "1  Love this dress!  it's sooo pretty.  i happene...       5                1   \n",
      "2  I had such high hopes for this dress and reall...       3                0   \n",
      "3  I love, love, love this jumpsuit. it's fun, fl...       5                1   \n",
      "4  This shirt is very flattering to all due to th...       5                1   \n",
      "5  I love tracy reese dresses, but this one is no...       2                0   \n",
      "6  I aded this in my basket at hte last mintue to...       5                1   \n",
      "7  I ordered this in carbon for store pick up, an...       4                1   \n",
      "8  I love this dress. i usually get an xs but it ...       5                1   \n",
      "9  I'm 5\"5' and 125 lbs. i ordered the s petite t...       5                1   \n",
      "\n",
      "   Positive Feedback Count   Division Name Department Name Class Name  \\\n",
      "0                        0       Initmates        Intimate  Intimates   \n",
      "1                        4         General         Dresses    Dresses   \n",
      "2                        0         General         Dresses    Dresses   \n",
      "3                        0  General Petite         Bottoms      Pants   \n",
      "4                        6         General            Tops    Blouses   \n",
      "5                        4         General         Dresses    Dresses   \n",
      "6                        1  General Petite            Tops      Knits   \n",
      "7                        4  General Petite            Tops      Knits   \n",
      "8                        0         General         Dresses    Dresses   \n",
      "9                        0         General         Dresses    Dresses   \n",
      "\n",
      "                                           Full text Sentiment  \n",
      "0   Absolutely wonderful - silky and sexy and com...  Positive  \n",
      "1   Love this dress!  it's sooo pretty.  i happen...  Positive  \n",
      "2  Some major design flaws I had such high hopes ...  Positive  \n",
      "3  My favorite buy! I love, love, love this jumps...  Positive  \n",
      "4  Flattering shirt This shirt is very flattering...  Positive  \n",
      "5  Not for the very petite I love tracy reese dre...  Positive  \n",
      "6  Cagrcoal shimmer fun I aded this in my basket ...  Positive  \n",
      "7  Shimmer, surprisingly goes with lots I ordered...  Positive  \n",
      "8  Flattering I love this dress. i usually get an...  Positive  \n",
      "9  Such a fun dress! I'm 5\"5' and 125 lbs. i orde...  Positive  \n"
     ]
    }
   ],
   "source": [
    "print(df.head(10))"
   ]
  },
  {
   "cell_type": "code",
   "execution_count": 15,
   "id": "0a6fa444",
   "metadata": {},
   "outputs": [
    {
     "name": "stdout",
     "output_type": "stream",
     "text": [
      "{'Negative': 48, 'Neutral': 3, 'Positive': 936}\n"
     ]
    }
   ],
   "source": [
    "#Fetching frequency of senitment for clothing ID 1078\n",
    "import numpy as np\n",
    "\n",
    "res = list(zip(*np.unique(df[df['Clothing ID']==1078]['Sentiment'].tolist(), return_counts=True)))\n",
    "resDict={}\n",
    "for j in res:\n",
    "    resDict.update({j[0]:j[1]})\n",
    "print(resDict)"
   ]
  },
  {
   "cell_type": "code",
   "execution_count": 16,
   "id": "a3a590ae",
   "metadata": {},
   "outputs": [],
   "source": [
    "df.to_excel('Clothing_Sentiment.xlsx')"
   ]
  }
 ],
 "metadata": {
  "kernelspec": {
   "display_name": "conda_tensorflow2_p36",
   "language": "python",
   "name": "conda_tensorflow2_p36"
  },
  "language_info": {
   "codemirror_mode": {
    "name": "ipython",
    "version": 3
   },
   "file_extension": ".py",
   "mimetype": "text/x-python",
   "name": "python",
   "nbconvert_exporter": "python",
   "pygments_lexer": "ipython3",
   "version": "3.6.13"
  }
 },
 "nbformat": 4,
 "nbformat_minor": 5
}
